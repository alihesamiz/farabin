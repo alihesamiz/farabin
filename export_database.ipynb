{
 "cells": [
  {
   "cell_type": "code",
   "execution_count": 5,
   "metadata": {},
   "outputs": [],
   "source": [
    "from sqlalchemy import create_engine\n",
    "import pandas as pd"
   ]
  },
  {
   "cell_type": "code",
   "execution_count": null,
   "metadata": {},
   "outputs": [
    {
     "name": "stdout",
     "output_type": "stream",
     "text": [
      "Table 'diagnostics_financialdata' successfully exported to 'output_table.xlsx'\n"
     ]
    },
    {
     "name": "stderr",
     "output_type": "stream",
     "text": [
      "/tmp/ipykernel_143863/2410174486.py:36: DeprecationWarning: is_datetime64tz_dtype is deprecated and will be removed in a future version. Check `isinstance(dtype, pd.DatetimeTZDtype)` instead.\n",
      "  if pd.api.types.is_datetime64tz_dtype(df[column]):\n"
     ]
    }
   ],
   "source": [
    "from sqlalchemy import create_engine\n",
    "import pandas as pd\n",
    "\n",
    "db_config = {\n",
    "    'dbname': 'farabinsaramad',\n",
    "    'user': 'farabinadmin',\n",
    "    'password': 'F@R@B!NS@R@M@D',\n",
    "    'host': 'localhost',\n",
    "    'port': '5432',\n",
    "}\n",
    "\n",
    "table_name = 'diagnostics_financialdata'\n",
    "output_file = 'output_table.xlsx'\n",
    "\n",
    "# URL-encoded password\n",
    "password_encoded = \"F%40R%40B%21NS%40R%40M%40D\"\n",
    "\n",
    "# Create connection string\n",
    "connection_string = (\n",
    "    f\"postgresql://{db_config['user']}:{password_encoded}\"\n",
    "    f\"@{db_config['host']}:{db_config['port']}/{db_config['dbname']}\"\n",
    ")\n",
    "\n",
    "try:\n",
    "    # Use SQLAlchemy engine\n",
    "    engine = create_engine(connection_string)\n",
    "\n",
    "    # Query the table\n",
    "    query = f\"SELECT * FROM {table_name}\"\n",
    "\n",
    "    # Read table into DataFrame\n",
    "    df = pd.read_sql_query(query, engine)\n",
    "\n",
    "    # Convert timezone-aware columns to naive\n",
    "    for column in df.columns:\n",
    "        if pd.api.types.is_datetime64tz_dtype(df[column]):\n",
    "            df[column] = df[column].dt.tz_localize(None)\n",
    "\n",
    "    # Export to Excel\n",
    "    df.to_excel(output_file, index=False, engine='openpyxl')\n",
    "\n",
    "    print(f\"Table '{table_name}' successfully exported to '{output_file}'\")\n",
    "\n",
    "except Exception as e:\n",
    "    print(f\"Error: {e}\")\n"
   ]
  },
  {
   "cell_type": "code",
   "execution_count": 18,
   "metadata": {},
   "outputs": [
    {
     "name": "stdout",
     "output_type": "stream",
     "text": [
      "FinancialAsset records successfully exported to 'financial_assets_with_company.xlsx'\n"
     ]
    }
   ],
   "source": [
    " \n",
    "engine = create_engine(connection_string)\n",
    "\n",
    "# SQL query to fetch FinancialAsset with company_id\n",
    "query = \"\"\"\n",
    "    SELECT\n",
    "        f.company_id,\n",
    "        f.year,\n",
    "        f.month,\n",
    "        f.is_tax_record\n",
    "    FROM\n",
    "        diagnostics_financialasset f \n",
    "    WHERE\n",
    "        f.company_id = '9497e3ff-67c9-4569-8da6-e24b93e22496'\n",
    "\"\"\"\n",
    "\n",
    "# Fetch data into DataFrame\n",
    "df = pd.read_sql_query(query, engine)\n",
    "\n",
    "# Specify output file name\n",
    "output_file = 'financial_assets_with_company.xlsx'\n",
    "\n",
    "# Export to Excel\n",
    "df.to_excel(output_file, index=False, engine='openpyxl')\n",
    "\n",
    "print(f\"FinancialAsset records successfully exported to '{output_file}'\")"
   ]
  },
  {
   "cell_type": "code",
   "execution_count": 24,
   "metadata": {},
   "outputs": [
    {
     "name": "stdout",
     "output_type": "stream",
     "text": [
      "Table 'diagnostics_financialdata' successfully exported to 'financial_assets_with_data.xlsx'\n"
     ]
    },
    {
     "name": "stderr",
     "output_type": "stream",
     "text": [
      "/tmp/ipykernel_143863/3860672994.py:43: DeprecationWarning: is_datetime64tz_dtype is deprecated and will be removed in a future version. Check `isinstance(dtype, pd.DatetimeTZDtype)` instead.\n",
      "  if pd.api.types.is_datetime64tz_dtype(df[column]):\n"
     ]
    }
   ],
   "source": [
    "db_config = {\n",
    "    'dbname': 'farabinsaramad',\n",
    "    'user': 'farabinadmin',\n",
    "    'password': 'F@R@B!NS@R@M@D',\n",
    "    'host': 'localhost',\n",
    "    'port': '5432',\n",
    "}\n",
    "\n",
    "table_name = 'diagnostics_financialdata'\n",
    "output_file = 'output_table.xlsx'\n",
    "\n",
    "# URL-encoded password\n",
    "password_encoded = \"F%40R%40B%21NS%40R%40M%40D\"\n",
    "\n",
    "# Create connection string\n",
    "connection_string = (\n",
    "    f\"postgresql://{db_config['user']}:{password_encoded}\"\n",
    "    f\"@{db_config['host']}:{db_config['port']}/{db_config['dbname']}\"\n",
    ")\n",
    "# Create SQLAlchemy engine\n",
    "try:\n",
    "    # Use SQLAlchemy engine\n",
    "    engine = create_engine(connection_string)\n",
    "\n",
    "    # Query the table\n",
    "    query = \"\"\"\n",
    "        SELECT\n",
    "            *\n",
    "        FROM\n",
    "            diagnostics_financialasset f\n",
    "        JOIN\n",
    "            diagnostics_financialdata d\n",
    "        ON\n",
    "            f.id = d.financial_asset_id\n",
    "        WHERE\n",
    "            f.company_id = '9497e3ff-67c9-4569-8da6-e24b93e22496'\n",
    "    \"\"\"\n",
    "    # Read table into DataFrame\n",
    "    df = pd.read_sql_query(query, engine)\n",
    "\n",
    "    # Convert timezone-aware columns to naive\n",
    "    for column in df.columns:\n",
    "        if pd.api.types.is_datetime64tz_dtype(df[column]):\n",
    "            df[column] = df[column].dt.tz_localize(None)\n",
    "\n",
    "    # Export to Excel\n",
    "    output_file = 'financial_assets_with_data.xlsx'\n",
    "\n",
    "    df.to_excel(output_file, index=False, engine='openpyxl')\n",
    "\n",
    "    print(f\"Table '{table_name}' successfully exported to '{output_file}'\")\n",
    "\n",
    "except Exception as e:\n",
    "    print(f\"Error: {e}\")\n",
    "# SQL query to join diagnostics_financialasset and diagnostics_financialdata\n",
    "\n",
    "\n"
   ]
  },
  {
   "cell_type": "code",
   "execution_count": 25,
   "metadata": {},
   "outputs": [
    {
     "ename": "AttributeError",
     "evalue": "'Engine' object has no attribute 'close'",
     "output_type": "error",
     "traceback": [
      "\u001b[0;31m---------------------------------------------------------------------------\u001b[0m",
      "\u001b[0;31mAttributeError\u001b[0m                            Traceback (most recent call last)",
      "Cell \u001b[0;32mIn[25], line 1\u001b[0m\n\u001b[0;32m----> 1\u001b[0m \u001b[43mengine\u001b[49m\u001b[38;5;241;43m.\u001b[39;49m\u001b[43mclose\u001b[49m()\n",
      "\u001b[0;31mAttributeError\u001b[0m: 'Engine' object has no attribute 'close'"
     ]
    }
   ],
   "source": [
    "engine.close()"
   ]
  }
 ],
 "metadata": {
  "kernelspec": {
   "display_name": "farabin-api-La3v7C61-py3.12",
   "language": "python",
   "name": "python3"
  },
  "language_info": {
   "codemirror_mode": {
    "name": "ipython",
    "version": 3
   },
   "file_extension": ".py",
   "mimetype": "text/x-python",
   "name": "python",
   "nbconvert_exporter": "python",
   "pygments_lexer": "ipython3",
   "version": "3.12.3"
  }
 },
 "nbformat": 4,
 "nbformat_minor": 2
}
