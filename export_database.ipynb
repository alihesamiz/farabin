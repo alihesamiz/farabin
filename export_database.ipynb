{
 "cells": [
  {
   "cell_type": "code",
   "execution_count": null,
   "metadata": {},
   "outputs": [],
   "source": [
    "import pandas as pd\n",
    "import psycopg2 "
   ]
  },
  {
   "cell_type": "code",
   "execution_count": null,
   "metadata": {},
   "outputs": [],
   "source": [
    "db_config = {\n",
    "    'dbname': 'farabinsaramad',\n",
    "    'user': 'farabinadmin',\n",
    "    'password': 'F@R@B!NS@R@M@D',\n",
    "    'host': 'localhost',  # Use 'localhost' if running locally\n",
    "    'port': '5432',  # Default PostgreSQL port is 5432\n",
    "}\n",
    "\n",
    "# Table name to export\n",
    "table_name = 'diagnostics_financial_data'\n",
    "\n",
    "# Output Excel file name\n",
    "output_file = 'output_table.xlsx'\n",
    "\n",
    "try:\n",
    "    # Connect to PostgreSQL\n",
    "    connection = psycopg2.connect(**db_config)\n",
    "    \n",
    "    # Query the table\n",
    "    query = f\"SELECT * FROM {table_name}\"\n",
    "    \n",
    "    # Use pandas to read the table into a DataFrame\n",
    "    df = pd.read_sql_query(query, connection)\n",
    "    \n",
    "    # Export to Excel\n",
    "    df.to_excel(output_file, index=False, engine='openpyxl')\n",
    "    \n",
    "    print(f\"Table '{table_name}' successfully exported to '{output_file}'\")\n",
    "\n",
    "except Exception as e:\n",
    "    print(f\"Error: {e}\")\n",
    "finally:\n",
    "    if connection:\n",
    "        connection.close()"
   ]
  }
 ],
 "metadata": {
  "kernelspec": {
   "display_name": "farabin-api-La3v7C61-py3.12",
   "language": "python",
   "name": "python3"
  },
  "language_info": {
   "name": "python",
   "version": "3.12.3"
  }
 },
 "nbformat": 4,
 "nbformat_minor": 2
}
